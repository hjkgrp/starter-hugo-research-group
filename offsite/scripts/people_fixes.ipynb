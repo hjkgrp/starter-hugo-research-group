{
 "cells": [
  {
   "cell_type": "code",
   "execution_count": 1,
   "metadata": {},
   "outputs": [],
   "source": [
    "import glob\n",
    "import os\n",
    "import re"
   ]
  },
  {
   "cell_type": "code",
   "execution_count": 2,
   "metadata": {},
   "outputs": [],
   "source": [
    "authors_folder = '../../content/authors/'\n",
    "author_mds = glob.glob(os.path.join(authors_folder,\"*\",\"_index.md\"))\n",
    "\n",
    "author_dict = {\"first\": {}, \"last\": {}}\n",
    "name_re = re.compile(\"title: (.+?)\\n\")"
   ]
  },
  {
   "cell_type": "code",
   "execution_count": 3,
   "metadata": {},
   "outputs": [],
   "source": [
    "for author_md in author_mds:\n",
    "    author = os.path.basename(os.path.dirname(author_md))\n",
    "    with open(author_md,'r') as f:\n",
    "        markdown = f.read()\n",
    "    if not 'superuser:' in markdown:\n",
    "        phrase = '# Is this the primary user of the site?\\n'\n",
    "        ind = markdown.find(phrase) + len(phrase)\n",
    "        markdown = markdown[:ind] + 'superuser: false\\n' + markdown[ind:]\n",
    "    if not 'authors:' in markdown:\n",
    "        markdown = markdown.split('\\n')\n",
    "        markdown.insert(4,f\"# Username (this should match the folder name)\\nauthors:\\n  - {author}\\n\")\n",
    "        markdown = '\\n'.join(markdown)\n",
    "    with open(author_md,'w') as f:\n",
    "        f.write(markdown)\n",
    "    names = name_re.search(markdown).group(1).split()\n",
    "    first_name = names[0]\n",
    "    last_name = names[-1]\n",
    "    author_dict['first'][first_name] = author\n",
    "    author_dict['last'][last_name] = author"
   ]
  },
  {
   "cell_type": "code",
   "execution_count": 4,
   "metadata": {},
   "outputs": [],
   "source": [
    "author_dict['first']['Heather'] = 'admin'\n",
    "author_dict['first']['H.'] = 'admin'\n",
    "first_names = author_dict['first']\n",
    "last_names = author_dict['last']"
   ]
  },
  {
   "cell_type": "code",
   "execution_count": 5,
   "metadata": {},
   "outputs": [],
   "source": [
    "pub_folder = '../../content/publication/'\n",
    "pub_mds = glob.glob(os.path.join(pub_folder,\"*\",\"index.md\"))"
   ]
  },
  {
   "cell_type": "code",
   "execution_count": 6,
   "metadata": {},
   "outputs": [],
   "source": [
    "for pub_md in pub_mds:\n",
    "    with open(pub_md,'r') as f:\n",
    "        markdown = f.readlines()\n",
    "    in_authors = False\n",
    "    test = False\n",
    "    for i, line in enumerate(markdown):\n",
    "        if 'authors:' in line:\n",
    "            in_authors = True\n",
    "            continue\n",
    "        if not(in_authors):\n",
    "            continue\n",
    "        if \":\" in line:\n",
    "            break\n",
    "        name = line.split()\n",
    "        last_name = name[-1]\n",
    "        first_name = name[1]\n",
    "        if not last_name in last_names:\n",
    "            continue\n",
    "        if not first_name in first_names:\n",
    "            continue\n",
    "\n",
    "        if first_names[first_name] == last_names[last_name]:\n",
    "            author = author_dict['first'][first_name]\n",
    "            markdown[i] = f\"- {author}\\n\"\n",
    "            test = True\n",
    "    with open(pub_md,'w') as f:\n",
    "        f.writelines(markdown)\n"
   ]
  }
 ],
 "metadata": {
  "kernelspec": {
   "display_name": "Python 3.10.4 ('general')",
   "language": "python",
   "name": "python3"
  },
  "language_info": {
   "codemirror_mode": {
    "name": "ipython",
    "version": 3
   },
   "file_extension": ".py",
   "mimetype": "text/x-python",
   "name": "python",
   "nbconvert_exporter": "python",
   "pygments_lexer": "ipython3",
   "version": "3.10.4"
  },
  "orig_nbformat": 4,
  "vscode": {
   "interpreter": {
    "hash": "6aef4d52271e5abf385c9d1f6e79a791c5776395adb0de4af49bd43713d0d89b"
   }
  }
 },
 "nbformat": 4,
 "nbformat_minor": 2
}
